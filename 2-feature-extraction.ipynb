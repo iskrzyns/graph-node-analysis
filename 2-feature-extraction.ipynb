{
 "cells": [
  {
   "cell_type": "markdown",
   "metadata": {},
   "source": [
    "## Feature extraction procedure\n",
    "\n",
    "\n",
    "INPUT:\n",
    "* matrix $A$ of **normalized** edge weights, where the $i$-th row, $A[i, :]$, holds weights of edges COMING OUT of $i$, and the $i$-th column, $A[:, i]$, holds weights of edges COMING INTO $i$;\n",
    "* $k$ - number of most important edges used to build the feature vector;\n",
    "\n",
    "\n",
    "OUTPUT:\n",
    "* matrix $X$ in which the $i$-th row holds features characterizing the $i$-th node."
   ]
  },
  {
   "cell_type": "markdown",
   "metadata": {},
   "source": [
    "Let's use the following matrix $A$ as our example:"
   ]
  },
  {
   "cell_type": "code",
   "execution_count": 1,
   "metadata": {},
   "outputs": [],
   "source": [
    "import numpy as np\n",
    "\n",
    "\n",
    "adj_mat = np.array([\n",
    "    [1, 2, 1, 3, 4],\n",
    "    [2, 1, 2, 0, 2],\n",
    "    [3, 0, 2, 1, 1],\n",
    "    [1, 0, 0, 0, 5],\n",
    "    [0, 2, 3, 2, 4],\n",
    "])"
   ]
  },
  {
   "cell_type": "markdown",
   "metadata": {},
   "source": [
    "And let's focus on node $i = 0$."
   ]
  },
  {
   "cell_type": "code",
   "execution_count": 2,
   "metadata": {},
   "outputs": [],
   "source": [
    "i = 0"
   ]
  },
  {
   "cell_type": "markdown",
   "metadata": {},
   "source": [
    "We'll store the triples in the following list of lists:"
   ]
  },
  {
   "cell_type": "code",
   "execution_count": 3,
   "metadata": {},
   "outputs": [],
   "source": [
    "graph_size = len(adj_mat) \n",
    "triples =  graph_size * [[]]"
   ]
  },
  {
   "cell_type": "markdown",
   "metadata": {},
   "source": [
    "We'll eventually run the following in a loop:\n",
    "\n",
    "```python\n",
    "for i in range(len(adj_mat)):\n",
    "```\n",
    "\n",
    "but, like I said, we'll focus on node $i = 0$."
   ]
  },
  {
   "cell_type": "code",
   "execution_count": 4,
   "metadata": {},
   "outputs": [],
   "source": [
    "triples[i] += [(-adj_mat[i,j], i, j) for j in range(graph_size)]\n",
    "triples[i] += [( adj_mat[j,i], j, i) for j in range(graph_size)]"
   ]
  },
  {
   "cell_type": "markdown",
   "metadata": {},
   "source": [
    "Now, we'll leave $k$ most relevant edge weights.\n",
    "\n",
    "Let's use:"
   ]
  },
  {
   "cell_type": "code",
   "execution_count": 5,
   "metadata": {},
   "outputs": [],
   "source": [
    "k = 5"
   ]
  },
  {
   "cell_type": "code",
   "execution_count": 6,
   "metadata": {},
   "outputs": [],
   "source": [
    "triples[i] = sorted(triples[i], key=lambda trip: -abs(trip[0]))\n",
    "\n",
    "triples[i] = triples[i][:k]"
   ]
  },
  {
   "cell_type": "markdown",
   "metadata": {},
   "source": [
    "**TODO:** if there are any conflicts (weights with the same absolute values) I'm just choosing them randomly. This might be (probably) done better."
   ]
  },
  {
   "cell_type": "markdown",
   "metadata": {},
   "source": [
    "We can now start building the feature vector for node $i$.\n",
    "\n",
    "We initialize it with the $k$ most importand edge weights coming out/into node $i$:"
   ]
  },
  {
   "cell_type": "code",
   "execution_count": 7,
   "metadata": {},
   "outputs": [],
   "source": [
    "feat_vec = [w for (w, id_1, id_2) in triples[i]]"
   ]
  },
  {
   "cell_type": "markdown",
   "metadata": {},
   "source": [
    "Next, we add the surroundings of the most relevant neighbors.\n",
    "\n",
    "To do that, we'll need triples of all the nodes:"
   ]
  },
  {
   "cell_type": "code",
   "execution_count": 8,
   "metadata": {},
   "outputs": [
    {
     "name": "stderr",
     "output_type": "stream",
     "text": [
      "/usr/lib/python3.5/importlib/_bootstrap.py:222: RuntimeWarning: numpy.dtype size changed, may indicate binary incompatibility. Expected 96, got 88\n",
      "  return f(*args, **kwds)\n",
      "/usr/lib/python3.5/importlib/_bootstrap.py:222: RuntimeWarning: numpy.dtype size changed, may indicate binary incompatibility. Expected 96, got 88\n",
      "  return f(*args, **kwds)\n"
     ]
    }
   ],
   "source": [
    "from utils import produce_triples\n",
    "\n",
    "\n",
    "triples = produce_triples(adj_mat, k)"
   ]
  },
  {
   "cell_type": "markdown",
   "metadata": {},
   "source": [
    "OK, so we'll go through `triples[i]` and append to the `feat_vec` weights corresponding to the neighbors of node $i$:"
   ]
  },
  {
   "cell_type": "code",
   "execution_count": 9,
   "metadata": {},
   "outputs": [],
   "source": [
    "for (w, id_1, id_2) in triples[i]:\n",
    "    sign = w / abs(w)\n",
    "    this_id, neighbor_id = (id_2, id_1) if sign == 1 else (id_1, id_2)\n",
    "    assert this_id == i\n",
    "    \n",
    "    feat_vec += [sign * v for (v, _, _) in triples[neighbor_id]]\n",
    "    \n",
    "assert len(feat_vec) == k * (k + 1)"
   ]
  },
  {
   "cell_type": "markdown",
   "metadata": {},
   "source": [
    "## Finally..."
   ]
  },
  {
   "cell_type": "markdown",
   "metadata": {},
   "source": [
    "The above procedure is implemented in the `utils.extract_features` function."
   ]
  },
  {
   "cell_type": "code",
   "execution_count": 10,
   "metadata": {},
   "outputs": [],
   "source": [
    "from utils import extract_features\n",
    "\n",
    "\n",
    "X = extract_features(adj_mat, k)"
   ]
  },
  {
   "cell_type": "code",
   "execution_count": 11,
   "metadata": {},
   "outputs": [
    {
     "data": {
      "text/plain": [
       "array([[-4, -3,  3, -2,  2, -5,  4, -4, -4,  3,  5, -3, -2,  1, -1, -3,\n",
       "         3, -2,  2,  2,  2,  2,  2, -2, -2, -2, -2, -2,  2,  2],\n",
       "       [-2, -2, -2,  2,  2,  4,  3, -3,  2, -2,  3, -3,  2, -2, -2, -5,\n",
       "         4, -4, -4,  3, -4, -3,  3, -2,  2,  5, -4,  4,  4, -3],\n",
       "       [-3,  3, -2,  2,  2,  4,  3, -3,  2, -2,  5, -4,  4,  4, -3,  3,\n",
       "        -3,  2, -2, -2, -2, -2, -2,  2,  2, -3,  3, -2,  2,  2],\n",
       "       [-5,  3,  2, -1,  1, -5,  4, -4, -4,  3, -4, -3,  3, -2,  2,  5,\n",
       "        -4,  4,  4, -3,  4,  3, -3,  2, -2, -3,  3, -2,  2,  2],\n",
       "       [ 5, -4,  4,  4, -3, -5,  3,  2, -1,  1, -5,  4, -4, -4,  3, -4,\n",
       "        -3,  3, -2,  2,  5, -4,  4,  4, -3,  3, -3,  2, -2, -2]])"
      ]
     },
     "execution_count": 11,
     "metadata": {},
     "output_type": "execute_result"
    }
   ],
   "source": [
    "X"
   ]
  },
  {
   "cell_type": "code",
   "execution_count": 12,
   "metadata": {},
   "outputs": [
    {
     "data": {
      "image/png": "[encoded data removed]",
      "text/plain": [
       "<Figure size 432x288 with 1 Axes>"
      ]
     },
     "metadata": {},
     "output_type": "display_data"
    }
   ],
   "source": [
    "import matplotlib.pyplot as plt\n",
    "%matplotlib inline\n",
    "\n",
    "\n",
    "plt.imshow(X);"
   ]
  },
  {
   "cell_type": "code",
   "execution_count": null,
   "metadata": {},
   "outputs": [],
   "source": []
  }
 ],
 "metadata": {
  "kernelspec": {
   "display_name": "Python 3",
   "language": "python",
   "name": "python3"
  },
  "language_info": {
   "codemirror_mode": {
    "name": "ipython",
    "version": 3
   },
   "file_extension": ".py",
   "mimetype": "text/x-python",
   "name": "python",
   "nbconvert_exporter": "python",
   "pygments_lexer": "ipython3",
   "version": "3.5.2"
  }
 },
 "nbformat": 4,
 "nbformat_minor": 2
}
